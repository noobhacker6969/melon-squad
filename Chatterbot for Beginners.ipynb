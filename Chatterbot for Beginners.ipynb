{
 "cells": [
  {
   "cell_type": "code",
   "execution_count": 1,
   "metadata": {},
   "outputs": [
    {
     "name": "stdout",
     "output_type": "stream",
     "text": [
      "hello world!\n"
     ]
    }
   ],
   "source": [
    "print(\"hello world!\")"
   ]
  },
  {
   "cell_type": "code",
   "execution_count": 2,
   "metadata": {},
   "outputs": [
    {
     "name": "stdout",
     "output_type": "stream",
     "text": [
      "Bot: What's your good name?\n",
      "yousuf\n"
     ]
    }
   ],
   "source": [
    "print(\"Bot: What's your good name?\")\n",
    "user_name = input()"
   ]
  },
  {
   "cell_type": "code",
   "execution_count": 4,
   "metadata": {},
   "outputs": [],
   "source": [
    "#user_templates\n",
    "\n",
    "bot_template = \"Bot : {0}\"\n",
    "user_template = user_name + \" : {0}\""
   ]
  },
  {
   "cell_type": "code",
   "execution_count": 5,
   "metadata": {},
   "outputs": [],
   "source": [
    "name = \"Noob Bot\"\n",
    "weather = \"rainy\"\n",
    "mood = \"Cool\""
   ]
  },
  {
   "cell_type": "code",
   "execution_count": 7,
   "metadata": {},
   "outputs": [],
   "source": [
    "#chatbot responses\n",
    "response = {\"What's your name?\": [\"They call me {0}\".format(name),\"I usually go by {0}.\".format(name),\n",
    "            \"My name is the {0}\".format(name)],\"What's today's weather?\":[\"The weather is {0}\".format(weather),\n",
    "            \"Its {0} today\".format(weather),\"Let me check whether its a {0} day\".format(weather)],\"Are you a robot\":\n",
    "            [\"What do you think\",\"Maybe yes Maybe no!\",\"Yes I am a robot with human feelings\"],\"How are you\":\n",
    "            [\"I am feeling {0}\".format(mood), \"{0} ! What about you!\".format(mood),\"I am {0}, How about yourself\".format(mood)],\n",
    "            \"\":[\"Hey are you there?\",\"What do you mean by saying nothing\",\"Sometimes saying nothing tells a lot :)\"],\"default\":\n",
    "            [\"This is a default message\"]}"
   ]
  },
  {
   "cell_type": "code",
   "execution_count": 12,
   "metadata": {},
   "outputs": [],
   "source": [
    "#response function\n",
    "import random\n",
    "def respond(message):\n",
    "    \n",
    "    if message in response:\n",
    "        bot_message = random.choice(response[message])\n",
    "    else:\n",
    "        bot_message = random.choice(response[\"default\"])\n",
    "        \n",
    "    return bot_message"
   ]
  },
  {
   "cell_type": "code",
   "execution_count": 13,
   "metadata": {},
   "outputs": [
    {
     "data": {
      "text/plain": [
       "'I usually go by Noob Bot.'"
      ]
     },
     "execution_count": 13,
     "metadata": {},
     "output_type": "execute_result"
    }
   ],
   "source": [
    "respond(\"What's your name?\")"
   ]
  },
  {
   "cell_type": "code",
   "execution_count": 15,
   "metadata": {},
   "outputs": [
    {
     "data": {
      "text/plain": [
       "'Let me check whether its a rainy day'"
      ]
     },
     "execution_count": 15,
     "metadata": {},
     "output_type": "execute_result"
    }
   ],
   "source": [
    "respond(\"What's today's weather?\")"
   ]
  },
  {
   "cell_type": "code",
   "execution_count": 16,
   "metadata": {},
   "outputs": [
    {
     "data": {
      "text/plain": [
       "'What do you think'"
      ]
     },
     "execution_count": 16,
     "metadata": {},
     "output_type": "execute_result"
    }
   ],
   "source": [
    "respond(\"Are you a robot\")"
   ]
  },
  {
   "cell_type": "code",
   "execution_count": 18,
   "metadata": {},
   "outputs": [
    {
     "data": {
      "text/plain": [
       "'I am feeling Cool'"
      ]
     },
     "execution_count": 18,
     "metadata": {},
     "output_type": "execute_result"
    }
   ],
   "source": [
    "respond(\"How are you\")"
   ]
  },
  {
   "cell_type": "code",
   "execution_count": 20,
   "metadata": {},
   "outputs": [
    {
     "data": {
      "text/plain": [
       "'What do you mean by saying nothing'"
      ]
     },
     "execution_count": 20,
     "metadata": {},
     "output_type": "execute_result"
    }
   ],
   "source": [
    "respond(\"\")"
   ]
  },
  {
   "cell_type": "code",
   "execution_count": null,
   "metadata": {},
   "outputs": [],
   "source": []
  }
 ],
 "metadata": {
  "kernelspec": {
   "display_name": "Python 3",
   "language": "python",
   "name": "python3"
  },
  "language_info": {
   "codemirror_mode": {
    "name": "ipython",
    "version": 3
   },
   "file_extension": ".py",
   "mimetype": "text/x-python",
   "name": "python",
   "nbconvert_exporter": "python",
   "pygments_lexer": "ipython3",
   "version": "3.8.5"
  }
 },
 "nbformat": 4,
 "nbformat_minor": 4
}
